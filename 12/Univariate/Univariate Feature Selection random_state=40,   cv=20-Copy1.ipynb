{
 "cells": [
  {
   "cell_type": "markdown",
   "id": "e6023940",
   "metadata": {},
   "source": [
    "# Import libraries"
   ]
  },
  {
   "cell_type": "code",
   "execution_count": 23,
   "id": "16034495",
   "metadata": {},
   "outputs": [],
   "source": [
    "from sklearn.feature_selection import mutual_info_classif, mutual_info_regression\n",
    "\n",
    "# to select the features\n",
    "from sklearn.feature_selection import SelectKBest, SelectPercentile\n",
    "import pandas as pd\n",
    "import csv\n",
    "import seaborn as sns\n",
    "sns.set_theme(style=\"whitegrid\")\n",
    "from tabulate import tabulate\n",
    "import missingno as msno\n",
    "import matplotlib.pyplot as plt\n",
    "from sklearn.preprocessing import MinMaxScaler\n",
    "from sklearn import preprocessing\n",
    "from sklearn.preprocessing import OneHotEncoder\n",
    "from sklearn.model_selection import train_test_split\n",
    "from plotly.subplots import make_subplots\n",
    "import plotly.graph_objs as go\n",
    "import plotly.io as pio\n",
    "import numpy as np\n",
    "from sklearn.ensemble import RandomForestRegressor\n",
    "from sklearn.model_selection import train_test_split\n",
    "from sklearn.model_selection import cross_validate\n",
    "from sklearn.ensemble import RandomForestRegressor\n",
    "from sklearn.linear_model import LinearRegression\n",
    "from sklearn.svm import SVR\n",
    "from sklearn.tree import DecisionTreeRegressor\n",
    "from sklearn.model_selection import cross_validate\n",
    "from sklearn.ensemble import RandomForestRegressor\n",
    "from xgboost import XGBRegressor\n",
    "from sklearn.neighbors import KNeighborsRegressor\n",
    "from lightgbm import LGBMRegressor\n",
    "from sklearn.tree import DecisionTreeRegressor\n",
    "from sklearn.svm import SVR\n",
    "from sklearn.ensemble import GradientBoostingRegressor\n",
    "from sklearn.neighbors import KNeighborsRegressor\n",
    "from xgboost import XGBRegressor\n",
    "from lightgbm import LGBMRegressor\n",
    "from catboost import CatBoostRegressor\n",
    "from sklearn.linear_model import LinearRegression, Ridge,Lasso\n",
    "from sklearn.model_selection import cross_val_score\n",
    "from sklearn.dummy import DummyRegressor\n",
    "from sklearn.metrics import (\n",
    "    mean_absolute_error as mae,\n",
    "    r2_score as r2,\n",
    "    mean_absolute_percentage_error as mape,\n",
    "    mean_squared_error as mse)\n",
    "from sklearn.metrics import make_scorer, mean_absolute_error, r2_score, mean_squared_error, mean_absolute_percentage_error\n",
    "import numpy as np"
   ]
  },
  {
   "cell_type": "code",
   "execution_count": 2,
   "id": "ceb1028f",
   "metadata": {},
   "outputs": [],
   "source": [
    "from sklearn.tree import  DecisionTreeRegressor\n",
    "from sklearn.metrics import  mean_squared_error\n",
    "\n",
    "from feature_engine.selection import SelectBySingleFeaturePerformance"
   ]
  },
  {
   "cell_type": "markdown",
   "id": "14a63475",
   "metadata": {},
   "source": [
    "# Import data"
   ]
  },
  {
   "cell_type": "code",
   "execution_count": 3,
   "id": "2984a55c",
   "metadata": {},
   "outputs": [
    {
     "data": {
      "text/html": [
       "<div>\n",
       "<style scoped>\n",
       "    .dataframe tbody tr th:only-of-type {\n",
       "        vertical-align: middle;\n",
       "    }\n",
       "\n",
       "    .dataframe tbody tr th {\n",
       "        vertical-align: top;\n",
       "    }\n",
       "\n",
       "    .dataframe thead th {\n",
       "        text-align: right;\n",
       "    }\n",
       "</style>\n",
       "<table border=\"1\" class=\"dataframe\">\n",
       "  <thead>\n",
       "    <tr style=\"text-align: right;\">\n",
       "      <th></th>\n",
       "      <th>mean_atomic_mass</th>\n",
       "      <th>wtd_mean_atomic_mass</th>\n",
       "      <th>gmean_atomic_mass</th>\n",
       "      <th>wtd_gmean_atomic_mass</th>\n",
       "      <th>entropy_atomic_mass</th>\n",
       "      <th>wtd_entropy_atomic_mass</th>\n",
       "      <th>range_atomic_mass</th>\n",
       "      <th>wtd_range_atomic_mass</th>\n",
       "      <th>std_atomic_mass</th>\n",
       "      <th>wtd_std_atomic_mass</th>\n",
       "      <th>...</th>\n",
       "      <th>wtd_mean_Valence</th>\n",
       "      <th>gmean_Valence</th>\n",
       "      <th>wtd_gmean_Valence</th>\n",
       "      <th>entropy_Valence</th>\n",
       "      <th>wtd_entropy_Valence</th>\n",
       "      <th>range_Valence</th>\n",
       "      <th>wtd_range_Valence</th>\n",
       "      <th>std_Valence</th>\n",
       "      <th>wtd_std_Valence</th>\n",
       "      <th>critical_temp</th>\n",
       "    </tr>\n",
       "  </thead>\n",
       "  <tbody>\n",
       "    <tr>\n",
       "      <th>0</th>\n",
       "      <td>88.944468</td>\n",
       "      <td>57.862692</td>\n",
       "      <td>66.361592</td>\n",
       "      <td>36.116612</td>\n",
       "      <td>1.181795</td>\n",
       "      <td>1.062396</td>\n",
       "      <td>122.90607</td>\n",
       "      <td>31.794921</td>\n",
       "      <td>51.968828</td>\n",
       "      <td>53.622535</td>\n",
       "      <td>...</td>\n",
       "      <td>2.257143</td>\n",
       "      <td>2.213364</td>\n",
       "      <td>2.219783</td>\n",
       "      <td>1.368922</td>\n",
       "      <td>1.066221</td>\n",
       "      <td>1</td>\n",
       "      <td>1.085714</td>\n",
       "      <td>0.433013</td>\n",
       "      <td>0.437059</td>\n",
       "      <td>29.00</td>\n",
       "    </tr>\n",
       "    <tr>\n",
       "      <th>1</th>\n",
       "      <td>92.729214</td>\n",
       "      <td>58.518416</td>\n",
       "      <td>73.132787</td>\n",
       "      <td>36.396602</td>\n",
       "      <td>1.449309</td>\n",
       "      <td>1.057755</td>\n",
       "      <td>122.90607</td>\n",
       "      <td>36.161939</td>\n",
       "      <td>47.094633</td>\n",
       "      <td>53.979870</td>\n",
       "      <td>...</td>\n",
       "      <td>2.257143</td>\n",
       "      <td>1.888175</td>\n",
       "      <td>2.210679</td>\n",
       "      <td>1.557113</td>\n",
       "      <td>1.047221</td>\n",
       "      <td>2</td>\n",
       "      <td>1.128571</td>\n",
       "      <td>0.632456</td>\n",
       "      <td>0.468606</td>\n",
       "      <td>26.00</td>\n",
       "    </tr>\n",
       "    <tr>\n",
       "      <th>2</th>\n",
       "      <td>88.944468</td>\n",
       "      <td>57.885242</td>\n",
       "      <td>66.361592</td>\n",
       "      <td>36.122509</td>\n",
       "      <td>1.181795</td>\n",
       "      <td>0.975980</td>\n",
       "      <td>122.90607</td>\n",
       "      <td>35.741099</td>\n",
       "      <td>51.968828</td>\n",
       "      <td>53.656268</td>\n",
       "      <td>...</td>\n",
       "      <td>2.271429</td>\n",
       "      <td>2.213364</td>\n",
       "      <td>2.232679</td>\n",
       "      <td>1.368922</td>\n",
       "      <td>1.029175</td>\n",
       "      <td>1</td>\n",
       "      <td>1.114286</td>\n",
       "      <td>0.433013</td>\n",
       "      <td>0.444697</td>\n",
       "      <td>19.00</td>\n",
       "    </tr>\n",
       "    <tr>\n",
       "      <th>3</th>\n",
       "      <td>88.944468</td>\n",
       "      <td>57.873967</td>\n",
       "      <td>66.361592</td>\n",
       "      <td>36.119560</td>\n",
       "      <td>1.181795</td>\n",
       "      <td>1.022291</td>\n",
       "      <td>122.90607</td>\n",
       "      <td>33.768010</td>\n",
       "      <td>51.968828</td>\n",
       "      <td>53.639405</td>\n",
       "      <td>...</td>\n",
       "      <td>2.264286</td>\n",
       "      <td>2.213364</td>\n",
       "      <td>2.226222</td>\n",
       "      <td>1.368922</td>\n",
       "      <td>1.048834</td>\n",
       "      <td>1</td>\n",
       "      <td>1.100000</td>\n",
       "      <td>0.433013</td>\n",
       "      <td>0.440952</td>\n",
       "      <td>22.00</td>\n",
       "    </tr>\n",
       "    <tr>\n",
       "      <th>4</th>\n",
       "      <td>88.944468</td>\n",
       "      <td>57.840143</td>\n",
       "      <td>66.361592</td>\n",
       "      <td>36.110716</td>\n",
       "      <td>1.181795</td>\n",
       "      <td>1.129224</td>\n",
       "      <td>122.90607</td>\n",
       "      <td>27.848743</td>\n",
       "      <td>51.968828</td>\n",
       "      <td>53.588771</td>\n",
       "      <td>...</td>\n",
       "      <td>2.242857</td>\n",
       "      <td>2.213364</td>\n",
       "      <td>2.206963</td>\n",
       "      <td>1.368922</td>\n",
       "      <td>1.096052</td>\n",
       "      <td>1</td>\n",
       "      <td>1.057143</td>\n",
       "      <td>0.433013</td>\n",
       "      <td>0.428809</td>\n",
       "      <td>23.00</td>\n",
       "    </tr>\n",
       "    <tr>\n",
       "      <th>...</th>\n",
       "      <td>...</td>\n",
       "      <td>...</td>\n",
       "      <td>...</td>\n",
       "      <td>...</td>\n",
       "      <td>...</td>\n",
       "      <td>...</td>\n",
       "      <td>...</td>\n",
       "      <td>...</td>\n",
       "      <td>...</td>\n",
       "      <td>...</td>\n",
       "      <td>...</td>\n",
       "      <td>...</td>\n",
       "      <td>...</td>\n",
       "      <td>...</td>\n",
       "      <td>...</td>\n",
       "      <td>...</td>\n",
       "      <td>...</td>\n",
       "      <td>...</td>\n",
       "      <td>...</td>\n",
       "      <td>...</td>\n",
       "      <td>...</td>\n",
       "    </tr>\n",
       "    <tr>\n",
       "      <th>21188</th>\n",
       "      <td>106.957877</td>\n",
       "      <td>53.095769</td>\n",
       "      <td>82.515384</td>\n",
       "      <td>43.135565</td>\n",
       "      <td>1.177145</td>\n",
       "      <td>1.254119</td>\n",
       "      <td>146.88130</td>\n",
       "      <td>15.504479</td>\n",
       "      <td>65.764081</td>\n",
       "      <td>43.202659</td>\n",
       "      <td>...</td>\n",
       "      <td>3.555556</td>\n",
       "      <td>3.223710</td>\n",
       "      <td>3.519911</td>\n",
       "      <td>1.377820</td>\n",
       "      <td>0.913658</td>\n",
       "      <td>1</td>\n",
       "      <td>2.168889</td>\n",
       "      <td>0.433013</td>\n",
       "      <td>0.496904</td>\n",
       "      <td>2.44</td>\n",
       "    </tr>\n",
       "    <tr>\n",
       "      <th>21189</th>\n",
       "      <td>92.266740</td>\n",
       "      <td>49.021367</td>\n",
       "      <td>64.812662</td>\n",
       "      <td>32.867748</td>\n",
       "      <td>1.323287</td>\n",
       "      <td>1.571630</td>\n",
       "      <td>188.38390</td>\n",
       "      <td>7.353333</td>\n",
       "      <td>69.232655</td>\n",
       "      <td>50.148287</td>\n",
       "      <td>...</td>\n",
       "      <td>2.047619</td>\n",
       "      <td>2.168944</td>\n",
       "      <td>2.038991</td>\n",
       "      <td>1.594167</td>\n",
       "      <td>1.337246</td>\n",
       "      <td>1</td>\n",
       "      <td>0.904762</td>\n",
       "      <td>0.400000</td>\n",
       "      <td>0.212959</td>\n",
       "      <td>122.10</td>\n",
       "    </tr>\n",
       "    <tr>\n",
       "      <th>21190</th>\n",
       "      <td>99.663190</td>\n",
       "      <td>95.609104</td>\n",
       "      <td>99.433882</td>\n",
       "      <td>95.464320</td>\n",
       "      <td>0.690847</td>\n",
       "      <td>0.530198</td>\n",
       "      <td>13.51362</td>\n",
       "      <td>53.041104</td>\n",
       "      <td>6.756810</td>\n",
       "      <td>5.405448</td>\n",
       "      <td>...</td>\n",
       "      <td>4.800000</td>\n",
       "      <td>4.472136</td>\n",
       "      <td>4.781762</td>\n",
       "      <td>0.686962</td>\n",
       "      <td>0.450561</td>\n",
       "      <td>1</td>\n",
       "      <td>3.200000</td>\n",
       "      <td>0.500000</td>\n",
       "      <td>0.400000</td>\n",
       "      <td>1.98</td>\n",
       "    </tr>\n",
       "    <tr>\n",
       "      <th>21191</th>\n",
       "      <td>99.663190</td>\n",
       "      <td>97.095602</td>\n",
       "      <td>99.433882</td>\n",
       "      <td>96.901083</td>\n",
       "      <td>0.690847</td>\n",
       "      <td>0.640883</td>\n",
       "      <td>13.51362</td>\n",
       "      <td>31.115202</td>\n",
       "      <td>6.756810</td>\n",
       "      <td>6.249958</td>\n",
       "      <td>...</td>\n",
       "      <td>4.690000</td>\n",
       "      <td>4.472136</td>\n",
       "      <td>4.665819</td>\n",
       "      <td>0.686962</td>\n",
       "      <td>0.577601</td>\n",
       "      <td>1</td>\n",
       "      <td>2.210000</td>\n",
       "      <td>0.500000</td>\n",
       "      <td>0.462493</td>\n",
       "      <td>1.84</td>\n",
       "    </tr>\n",
       "    <tr>\n",
       "      <th>21192</th>\n",
       "      <td>87.468333</td>\n",
       "      <td>86.858500</td>\n",
       "      <td>82.555758</td>\n",
       "      <td>80.458722</td>\n",
       "      <td>1.041270</td>\n",
       "      <td>0.895229</td>\n",
       "      <td>71.75500</td>\n",
       "      <td>43.144000</td>\n",
       "      <td>29.905282</td>\n",
       "      <td>33.927941</td>\n",
       "      <td>...</td>\n",
       "      <td>4.500000</td>\n",
       "      <td>4.762203</td>\n",
       "      <td>4.242641</td>\n",
       "      <td>1.054920</td>\n",
       "      <td>0.970116</td>\n",
       "      <td>3</td>\n",
       "      <td>1.800000</td>\n",
       "      <td>1.414214</td>\n",
       "      <td>1.500000</td>\n",
       "      <td>12.80</td>\n",
       "    </tr>\n",
       "  </tbody>\n",
       "</table>\n",
       "<p>21193 rows × 81 columns</p>\n",
       "</div>"
      ],
      "text/plain": [
       "       mean_atomic_mass  wtd_mean_atomic_mass  gmean_atomic_mass  \\\n",
       "0             88.944468             57.862692          66.361592   \n",
       "1             92.729214             58.518416          73.132787   \n",
       "2             88.944468             57.885242          66.361592   \n",
       "3             88.944468             57.873967          66.361592   \n",
       "4             88.944468             57.840143          66.361592   \n",
       "...                 ...                   ...                ...   \n",
       "21188        106.957877             53.095769          82.515384   \n",
       "21189         92.266740             49.021367          64.812662   \n",
       "21190         99.663190             95.609104          99.433882   \n",
       "21191         99.663190             97.095602          99.433882   \n",
       "21192         87.468333             86.858500          82.555758   \n",
       "\n",
       "       wtd_gmean_atomic_mass  entropy_atomic_mass  wtd_entropy_atomic_mass  \\\n",
       "0                  36.116612             1.181795                 1.062396   \n",
       "1                  36.396602             1.449309                 1.057755   \n",
       "2                  36.122509             1.181795                 0.975980   \n",
       "3                  36.119560             1.181795                 1.022291   \n",
       "4                  36.110716             1.181795                 1.129224   \n",
       "...                      ...                  ...                      ...   \n",
       "21188              43.135565             1.177145                 1.254119   \n",
       "21189              32.867748             1.323287                 1.571630   \n",
       "21190              95.464320             0.690847                 0.530198   \n",
       "21191              96.901083             0.690847                 0.640883   \n",
       "21192              80.458722             1.041270                 0.895229   \n",
       "\n",
       "       range_atomic_mass  wtd_range_atomic_mass  std_atomic_mass  \\\n",
       "0              122.90607              31.794921        51.968828   \n",
       "1              122.90607              36.161939        47.094633   \n",
       "2              122.90607              35.741099        51.968828   \n",
       "3              122.90607              33.768010        51.968828   \n",
       "4              122.90607              27.848743        51.968828   \n",
       "...                  ...                    ...              ...   \n",
       "21188          146.88130              15.504479        65.764081   \n",
       "21189          188.38390               7.353333        69.232655   \n",
       "21190           13.51362              53.041104         6.756810   \n",
       "21191           13.51362              31.115202         6.756810   \n",
       "21192           71.75500              43.144000        29.905282   \n",
       "\n",
       "       wtd_std_atomic_mass  ...  wtd_mean_Valence  gmean_Valence  \\\n",
       "0                53.622535  ...          2.257143       2.213364   \n",
       "1                53.979870  ...          2.257143       1.888175   \n",
       "2                53.656268  ...          2.271429       2.213364   \n",
       "3                53.639405  ...          2.264286       2.213364   \n",
       "4                53.588771  ...          2.242857       2.213364   \n",
       "...                    ...  ...               ...            ...   \n",
       "21188            43.202659  ...          3.555556       3.223710   \n",
       "21189            50.148287  ...          2.047619       2.168944   \n",
       "21190             5.405448  ...          4.800000       4.472136   \n",
       "21191             6.249958  ...          4.690000       4.472136   \n",
       "21192            33.927941  ...          4.500000       4.762203   \n",
       "\n",
       "       wtd_gmean_Valence  entropy_Valence  wtd_entropy_Valence  range_Valence  \\\n",
       "0               2.219783         1.368922             1.066221              1   \n",
       "1               2.210679         1.557113             1.047221              2   \n",
       "2               2.232679         1.368922             1.029175              1   \n",
       "3               2.226222         1.368922             1.048834              1   \n",
       "4               2.206963         1.368922             1.096052              1   \n",
       "...                  ...              ...                  ...            ...   \n",
       "21188           3.519911         1.377820             0.913658              1   \n",
       "21189           2.038991         1.594167             1.337246              1   \n",
       "21190           4.781762         0.686962             0.450561              1   \n",
       "21191           4.665819         0.686962             0.577601              1   \n",
       "21192           4.242641         1.054920             0.970116              3   \n",
       "\n",
       "       wtd_range_Valence  std_Valence  wtd_std_Valence  critical_temp  \n",
       "0               1.085714     0.433013         0.437059          29.00  \n",
       "1               1.128571     0.632456         0.468606          26.00  \n",
       "2               1.114286     0.433013         0.444697          19.00  \n",
       "3               1.100000     0.433013         0.440952          22.00  \n",
       "4               1.057143     0.433013         0.428809          23.00  \n",
       "...                  ...          ...              ...            ...  \n",
       "21188           2.168889     0.433013         0.496904           2.44  \n",
       "21189           0.904762     0.400000         0.212959         122.10  \n",
       "21190           3.200000     0.500000         0.400000           1.98  \n",
       "21191           2.210000     0.500000         0.462493           1.84  \n",
       "21192           1.800000     1.414214         1.500000          12.80  \n",
       "\n",
       "[21193 rows x 81 columns]"
      ]
     },
     "execution_count": 3,
     "metadata": {},
     "output_type": "execute_result"
    }
   ],
   "source": [
    "file_path = '../train_1.csv'\n",
    "\n",
    "data = pd.read_csv(file_path)\n",
    "data"
   ]
  },
  {
   "cell_type": "markdown",
   "id": "c0c5c6dc",
   "metadata": {},
   "source": [
    "# Data preparation"
   ]
  },
  {
   "cell_type": "code",
   "execution_count": 4,
   "id": "669f37c0",
   "metadata": {},
   "outputs": [],
   "source": [
    "X = data.iloc[:, 0:-1]\n",
    "y = data.iloc[:, -1]"
   ]
  },
  {
   "cell_type": "code",
   "execution_count": 5,
   "id": "e5142860",
   "metadata": {},
   "outputs": [
    {
     "data": {
      "text/plain": [
       "((16954, 80), (4239, 80))"
      ]
     },
     "execution_count": 5,
     "metadata": {},
     "output_type": "execute_result"
    }
   ],
   "source": [
    "X_train, X_test, y_train, y_test = train_test_split(\n",
    "    X, y, test_size=0.2, random_state=20,\n",
    ")\n",
    "\n",
    "X_train.shape, X_test.shape"
   ]
  },
  {
   "cell_type": "code",
   "execution_count": null,
   "id": "d44d782f",
   "metadata": {},
   "outputs": [],
   "source": []
  },
  {
   "cell_type": "markdown",
   "id": "ff06913f",
   "metadata": {},
   "source": [
    "# Univariate Feature Selection"
   ]
  },
  {
   "cell_type": "code",
   "execution_count": 6,
   "id": "3f40735d",
   "metadata": {},
   "outputs": [
    {
     "data": {
      "text/plain": [
       "SelectBySingleFeaturePerformance(cv=20,\n",
       "                                 estimator=DecisionTreeRegressor(random_state=40),\n",
       "                                 scoring='neg_mean_squared_error')"
      ]
     },
     "execution_count": 6,
     "metadata": {},
     "output_type": "execute_result"
    }
   ],
   "source": [
    "sel = SelectBySingleFeaturePerformance(\n",
    "    estimator=DecisionTreeRegressor(random_state=40),\n",
    "    scoring='neg_mean_squared_error',\n",
    "    cv=20,\n",
    "    threshold=None,\n",
    ")\n",
    "\n",
    "sel.fit(X_train, y_train)"
   ]
  },
  {
   "cell_type": "code",
   "execution_count": 7,
   "id": "f6d27931",
   "metadata": {},
   "outputs": [
    {
     "data": {
      "text/plain": [
       "['wtd_mean_atomic_mass',\n",
       " 'wtd_gmean_atomic_mass',\n",
       " 'wtd_entropy_atomic_mass',\n",
       " 'wtd_range_atomic_mass',\n",
       " 'wtd_std_atomic_mass',\n",
       " 'wtd_mean_fie',\n",
       " 'wtd_gmean_fie',\n",
       " 'wtd_entropy_fie',\n",
       " 'wtd_range_fie',\n",
       " 'wtd_std_fie',\n",
       " 'wtd_mean_atomic_radius',\n",
       " 'wtd_gmean_atomic_radius',\n",
       " 'wtd_entropy_atomic_radius',\n",
       " 'wtd_range_atomic_radius',\n",
       " 'wtd_std_atomic_radius',\n",
       " 'wtd_mean_Density',\n",
       " 'wtd_gmean_Density',\n",
       " 'wtd_entropy_Density',\n",
       " 'wtd_range_Density',\n",
       " 'wtd_std_Density',\n",
       " 'wtd_mean_ElectronAffinity',\n",
       " 'wtd_gmean_ElectronAffinity',\n",
       " 'wtd_entropy_ElectronAffinity',\n",
       " 'wtd_range_ElectronAffinity',\n",
       " 'wtd_std_ElectronAffinity',\n",
       " 'wtd_mean_FusionHeat',\n",
       " 'wtd_gmean_FusionHeat',\n",
       " 'wtd_entropy_FusionHeat',\n",
       " 'wtd_range_FusionHeat',\n",
       " 'wtd_std_FusionHeat',\n",
       " 'wtd_mean_ThermalConductivity',\n",
       " 'wtd_gmean_ThermalConductivity',\n",
       " 'wtd_entropy_ThermalConductivity',\n",
       " 'wtd_entropy_Valence',\n",
       " 'range_Valence',\n",
       " 'wtd_range_Valence',\n",
       " 'std_Valence',\n",
       " 'wtd_std_Valence']"
      ]
     },
     "execution_count": 7,
     "metadata": {},
     "output_type": "execute_result"
    }
   ],
   "source": [
    "sel.features_to_drop_"
   ]
  },
  {
   "cell_type": "code",
   "execution_count": 8,
   "id": "7e494788",
   "metadata": {},
   "outputs": [
    {
     "data": {
      "text/plain": [
       "Text(0.5, 1.0, 'Univariate performance')"
      ]
     },
     "execution_count": 8,
     "metadata": {},
     "output_type": "execute_result"
    },
    {
     "data": {
      "image/png": "[encoded data removed]",
      "text/plain": [
       "<Figure size 1000x500 with 1 Axes>"
      ]
     },
     "metadata": {},
     "output_type": "display_data"
    }
   ],
   "source": [
    "pd.Series(sel.feature_performance_\n",
    "          ).sort_values(ascending=False\n",
    "                        ).plot.bar(figsize=(10, 5))\n",
    "\n",
    "plt.ylabel('negative mse')\n",
    "plt.title('Univariate performance')"
   ]
  },
  {
   "cell_type": "code",
   "execution_count": 9,
   "id": "d2d0abe1",
   "metadata": {},
   "outputs": [
    {
     "data": {
      "text/plain": [
       "((16954, 42), (4239, 42))"
      ]
     },
     "execution_count": 9,
     "metadata": {},
     "output_type": "execute_result"
    }
   ],
   "source": [
    "X_train_t = sel.transform(X_train)\n",
    "X_test_t = sel.transform(X_test)\n",
    "\n",
    "X_train_t.shape, X_test_t.shape"
   ]
  },
  {
   "cell_type": "markdown",
   "id": "75c4dc7c",
   "metadata": {},
   "source": [
    "# Scaling"
   ]
  },
  {
   "cell_type": "code",
   "execution_count": 10,
   "id": "295d630b",
   "metadata": {},
   "outputs": [],
   "source": [
    "min_max_scaler = preprocessing.MinMaxScaler()\n",
    "X_train_sc= min_max_scaler.fit_transform(X_train_t)\n",
    "\n",
    "X_test_sc=min_max_scaler.fit_transform(X_test_t)"
   ]
  },
  {
   "cell_type": "code",
   "execution_count": 11,
   "id": "70a53590",
   "metadata": {},
   "outputs": [],
   "source": [
    "scaler = MinMaxScaler()\n",
    "\n",
    "\n",
    "y_train_sc = scaler.fit_transform(y_train.values.reshape(-1, 1))\n",
    "\n",
    "\n",
    "y_test_sc = scaler.transform(y_test.values.reshape(-1, 1))"
   ]
  },
  {
   "cell_type": "markdown",
   "id": "a3de681e",
   "metadata": {},
   "source": [
    "# Baseline model"
   ]
  },
  {
   "cell_type": "code",
   "execution_count": 12,
   "id": "3a36ab3d",
   "metadata": {},
   "outputs": [],
   "source": [
    "from sklearn.linear_model import LinearRegression, Ridge,Lasso\n",
    "from sklearn.dummy import DummyRegressor\n",
    "from sklearn.metrics import (\n",
    "    mean_absolute_error as mae,\n",
    "    r2_score as r2,\n",
    "    mean_absolute_percentage_error as mape,\n",
    "    mean_squared_error as mse)"
   ]
  },
  {
   "cell_type": "code",
   "execution_count": 13,
   "id": "c188f491",
   "metadata": {},
   "outputs": [],
   "source": [
    "def report_metrics(model, X_train_sc, X_test_sc, y_train_sc, y_test_sc, label):\n",
    "    print(f'Train MAE ({label}):', round(mae(y_train_sc, model.predict(X_train_sc)), 4))\n",
    "    print(f'Test MAE ({label}) :', round(mae(y_test_sc, model.predict(X_test_sc)), 4), '\\n')\n",
    "\n",
    "    print(f'Train R^2 ({label}):', round(r2(y_train_sc, model.predict(X_train_sc)), 4))\n",
    "    print(f'Test R^2 ({label}) :', round(r2(y_test_sc, model.predict(X_test_sc)), 4), '\\n')"
   ]
  },
  {
   "cell_type": "code",
   "execution_count": 14,
   "id": "9a03d9da",
   "metadata": {},
   "outputs": [
    {
     "name": "stdout",
     "output_type": "stream",
     "text": [
      "Train MAE (LR_baseline): 0.0816\n",
      "Test MAE (LR_baseline) : 0.0935 \n",
      "\n",
      "Train R^2 (LR_baseline): 0.6634\n",
      "Test R^2 (LR_baseline) : 0.5736 \n",
      "\n"
     ]
    }
   ],
   "source": [
    "LR_baseline = LinearRegression().fit(X_train_sc, y_train_sc)\n",
    "report_metrics(LR_baseline, X_train_sc, X_test_sc, y_train_sc, y_test_sc, 'LR_baseline')"
   ]
  },
  {
   "cell_type": "markdown",
   "id": "09045166",
   "metadata": {},
   "source": [
    "# Cross-Validation"
   ]
  },
  {
   "cell_type": "code",
   "execution_count": 15,
   "id": "fb4f286b",
   "metadata": {},
   "outputs": [
    {
     "name": "stdout",
     "output_type": "stream",
     "text": [
      "                        fit_time  score_time  neg_mean_squared_error\n",
      "RandomForestRegressor  62.660181    0.037244               -0.002729\n",
      "XGBRegressor            9.884517    0.004317               -0.003016\n",
      "KNeighborsRegressor     0.007297    0.113291               -0.003747\n",
      "LGBMRegressor           1.177761    0.007813               -0.003405\n",
      "SVR                     8.099957    0.439630               -0.007073\n"
     ]
    }
   ],
   "source": [
    "list_of_models = [        \n",
    "        RandomForestRegressor(),\n",
    "        XGBRegressor(),\n",
    "        KNeighborsRegressor(),\n",
    "        LGBMRegressor(),\n",
    "        SVR()]\n",
    "        \n",
    "    \n",
    "\n",
    "list_of_model_names = [type(x).__name__ for x in list_of_models]\n",
    "cv_results = pd.DataFrame(\n",
    "        data=0.0,\n",
    "        index=list_of_model_names,\n",
    "        columns=['fit_time', 'score_time','neg_mean_squared_error'])\n",
    "    \n",
    "    \n",
    "\n",
    "    # обучение всех моделей из списка\n",
    "for model in list_of_models:\n",
    "        \n",
    "        cv_result = cross_validate(\n",
    "            estimator=model,\n",
    "            X=X_train_sc,\n",
    "            y=y_train_sc,\n",
    "            scoring=['neg_mean_squared_error'],\n",
    "            cv=30,\n",
    "            n_jobs=-1)\n",
    "        \n",
    "\n",
    "        cv_results.loc[type(model).__name__] = list(map(np.mean, cv_result.values()))\n",
    "\n",
    "print(cv_results)"
   ]
  },
  {
   "cell_type": "code",
   "execution_count": 16,
   "id": "d592a5b8",
   "metadata": {},
   "outputs": [
    {
     "name": "stdout",
     "output_type": "stream",
     "text": [
      "                    fit_time  score_time  neg_mean_squared_error\n",
      "CatBoostRegressor  36.078375    0.058451               -0.003221\n"
     ]
    }
   ],
   "source": [
    "list_of_models = [        \n",
    "        CatBoostRegressor()]\n",
    "        \n",
    "    \n",
    "\n",
    "list_of_model_names = [type(x).__name__ for x in list_of_models]\n",
    "cv_results = pd.DataFrame(\n",
    "        data=0.0,\n",
    "        index=list_of_model_names,\n",
    "        columns=['fit_time', 'score_time','neg_mean_squared_error'])\n",
    "    \n",
    "    \n",
    "\n",
    "    # обучение всех моделей из списка\n",
    "for model in list_of_models:\n",
    "        \n",
    "        cv_result = cross_validate(\n",
    "            estimator=model,\n",
    "            X=X_train_sc,\n",
    "            y=y_train_sc,\n",
    "            scoring=['neg_mean_squared_error'],\n",
    "            cv=7,\n",
    "            n_jobs=-1)\n",
    "        \n",
    "\n",
    "        cv_results.loc[type(model).__name__] = list(map(np.mean, cv_result.values()))\n",
    "\n",
    "print(cv_results)"
   ]
  },
  {
   "cell_type": "markdown",
   "id": "635e4b8d",
   "metadata": {},
   "source": [
    "# RandomForestRegressor"
   ]
  },
  {
   "cell_type": "code",
   "execution_count": 15,
   "id": "45a5a37b",
   "metadata": {},
   "outputs": [
    {
     "name": "stderr",
     "output_type": "stream",
     "text": [
      "C:\\Users\\Misi\\AppData\\Local\\Temp\\ipykernel_13576\\1833622144.py:2: DataConversionWarning: A column-vector y was passed when a 1d array was expected. Please change the shape of y to (n_samples,), for example using ravel().\n",
      "  model_1.fit(X_train_sc, y_train_sc)\n"
     ]
    },
    {
     "name": "stdout",
     "output_type": "stream",
     "text": [
      "Mean Squared Error (MSE): 0.005724719502225316\n",
      "Mean Absolute Error (MAE): 0.05047974464424043\n",
      "R-squared (R2): 0.8380822304577609\n",
      "mape: 37.46659307978662\n"
     ]
    }
   ],
   "source": [
    "model_1 = RandomForestRegressor(n_estimators=100, random_state=42)\n",
    "model_1.fit(X_train_sc, y_train_sc)\n",
    "\n",
    "# Make predictions on the test set\n",
    "y_pred_1 = model_1.predict(X_test_sc)\n",
    "\n",
    "# Evaluate the model's performance\n",
    "mse = mean_squared_error(y_test_sc, y_pred_1)\n",
    "mae = mean_absolute_error(y_test_sc, y_pred_1)\n",
    "r2 = r2_score(y_test_sc, y_pred_1)\n",
    "mape = mean_absolute_percentage_error(y_test_sc, y_pred_1)\n",
    "\n",
    "print(\"Mean Squared Error (MSE):\", mse)\n",
    "print(\"Mean Absolute Error (MAE):\", mae)\n",
    "print(\"R-squared (R2):\", r2)\n",
    "print(\"mape:\", mape)"
   ]
  },
  {
   "cell_type": "markdown",
   "id": "3e0b29e1",
   "metadata": {},
   "source": [
    "# XGBRegressor"
   ]
  },
  {
   "cell_type": "code",
   "execution_count": 16,
   "id": "cc24c911",
   "metadata": {},
   "outputs": [
    {
     "name": "stdout",
     "output_type": "stream",
     "text": [
      "Mean Squared Error (MSE): 0.006134064916640939\n",
      "Mean Absolute Error (MAE): 0.05346153209575924\n",
      "R-squared (R2): 0.8265043188327883\n",
      "mape: 31.203115029896928\n"
     ]
    }
   ],
   "source": [
    "model_2 = XGBRegressor(n_estimators=100, learning_rate=0.1, random_state=42)\n",
    "model_2.fit(X_train_sc, y_train_sc)\n",
    "\n",
    "# Make predictions on the test set\n",
    "y_pred_2 = model_2.predict(X_test_sc)\n",
    "\n",
    "# Evaluate the model's performance\n",
    "mse = mean_squared_error(y_test_sc, y_pred_2)\n",
    "mae = mean_absolute_error(y_test_sc, y_pred_2)\n",
    "r2 = r2_score(y_test_sc, y_pred_2)\n",
    "mape = mean_absolute_percentage_error(y_test_sc, y_pred_2)\n",
    "\n",
    "print(\"Mean Squared Error (MSE):\", mse)\n",
    "print(\"Mean Absolute Error (MAE):\", mae)\n",
    "print(\"R-squared (R2):\", r2)\n",
    "print(\"mape:\", mape)"
   ]
  },
  {
   "cell_type": "code",
   "execution_count": 21,
   "id": "4c7867bf",
   "metadata": {},
   "outputs": [],
   "source": [
    "from hyperopt import hp, fmin, tpe, STATUS_OK, Trials\n",
    "from skopt.space import Real, Integer, Categorical\n",
    "from tqdm import tqdm"
   ]
  },
  {
   "cell_type": "code",
   "execution_count": 24,
   "id": "ea8269e5",
   "metadata": {},
   "outputs": [
    {
     "name": "stderr",
     "output_type": "stream",
     "text": [
      "Hyperparameter Tuning: 100%|██████████| 100/100 [07:06<00:00,  4.27s/iter]"
     ]
    },
    {
     "name": "stdout",
     "output_type": "stream",
     "text": [
      "Best hyperparameters: {'alpha': 0.02134891368436722, 'eta': 0.02025712525996917, 'gamma': 0.004979372114651379, 'lambda': 0.11420422611391455, 'learning_rate': 0.058745716329104844, 'max_delta_step': 0.21845108541855393, 'max_depth': 12.0, 'min_child_weight': 1.0, 'tree_method': 1}\n",
      "Best MSE score: 0.002926598703734049\n"
     ]
    },
    {
     "name": "stderr",
     "output_type": "stream",
     "text": [
      "\n"
     ]
    }
   ],
   "source": [
    "param_space = {\n",
    "    'eta': hp.loguniform('eta', np.log(0.001), np.log(1.0)),\n",
    "    'gamma': hp.loguniform('gamma', np.log(0.001), np.log(1.0)),\n",
    "    'max_depth': hp.quniform('max_depth', 2, 15, 1),\n",
    "    'min_child_weight': hp.quniform('min_child_weight', 1, 10, 1),\n",
    "    'max_delta_step': hp.loguniform('max_delta_step', np.log(0.001), np.log(10.0)),\n",
    "    'lambda': hp.loguniform('lambda', np.log(0.001), np.log(10.0)),\n",
    "    'alpha': hp.loguniform('alpha', np.log(0.001), np.log(10.0)),\n",
    "    'tree_method': hp.choice('tree_method', ['hist', 'exact']),  # Only CPU-based tree methods\n",
    "    'learning_rate': hp.loguniform('learning_rate', np.log(0.001), np.log(1.0)),\n",
    "}\n",
    "\n",
    "# Define the objective function to minimize (negative mean squared error)\n",
    "def objective(params):\n",
    "    params['max_depth'] = int(params['max_depth'])  # Convert max_depth to an integer\n",
    "    model = XGBRegressor(random_state=42, **params)\n",
    "    mse_scores = -cross_val_score(model, X_train_sc, y_train_sc, scoring='neg_mean_squared_error', cv=5)\n",
    "    return {'loss': mse_scores.mean(), 'status': STATUS_OK}\n",
    "\n",
    "# Initialize Trials to keep track of results\n",
    "trials = Trials()\n",
    "\n",
    "# Define the number of iterations for optimization\n",
    "num_iterations = 100\n",
    "\n",
    "# Run the hyperparameter optimization with a progress bar\n",
    "best = []\n",
    "for _ in tqdm(range(num_iterations), desc='Hyperparameter Tuning', unit='iter'):\n",
    "    best = fmin(\n",
    "        fn=objective,\n",
    "        space=param_space,\n",
    "        algo=tpe.suggest,\n",
    "        max_evals=len(trials.trials) + 1,  # Incremental evaluations\n",
    "        trials=trials,\n",
    "        verbose=0\n",
    "    )\n",
    "\n",
    "# Get the best hyperparameters and corresponding MSE score\n",
    "best_params = {param: value for param, value in best.items()}\n",
    "best_mse = min([trial['result']['loss'] for trial in trials.trials])\n",
    "\n",
    "print(\"Best hyperparameters:\", best_params)\n",
    "print(\"Best MSE score:\", best_mse)"
   ]
  },
  {
   "cell_type": "code",
   "execution_count": 25,
   "id": "7f7fc89e",
   "metadata": {},
   "outputs": [
    {
     "name": "stdout",
     "output_type": "stream",
     "text": [
      "Mean Squared Error (MSE): 0.005748247091998702\n",
      "Mean Absolute Error (MAE): 0.05057679355077826\n",
      "R-squared (R2): 0.837416776917665\n",
      "mape: 33.539305599093645\n"
     ]
    }
   ],
   "source": [
    "model_2_tun = XGBRegressor(random_state=42, alpha=0.02134891368436722, \n",
    "                            eta=0.02025712525996917, gamma=0.004979372114651379, reg_lambda= 0.11420422611391455, \n",
    "                            learning_rate=0.058745716329104844, \n",
    "                            max_delta_step=0.21845108541855393, max_depth=12,\n",
    "                             min_child_weight=1, tree_method='exact')\n",
    "model_2_tun.fit(X_train_sc, y_train_sc)\n",
    "y_pred_2_tun= model_2_tun.predict(X_test_sc)\n",
    "\n",
    "# Evaluate the model's performanc\n",
    "mse = mean_squared_error(y_test_sc, y_pred_2_tun)\n",
    "mae = mean_absolute_error(y_test_sc, y_pred_2_tun)\n",
    "r2 = r2_score(y_test_sc, y_pred_2_tun)\n",
    "mape = mean_absolute_percentage_error(y_test_sc, y_pred_2_tun)\n",
    "\n",
    "print(\"Mean Squared Error (MSE):\", mse)\n",
    "print(\"Mean Absolute Error (MAE):\", mae)\n",
    "print(\"R-squared (R2):\", r2)\n",
    "print(\"mape:\", mape)"
   ]
  },
  {
   "cell_type": "markdown",
   "id": "089b4650",
   "metadata": {},
   "source": [
    "# CatBoostRegressor"
   ]
  },
  {
   "cell_type": "code",
   "execution_count": 17,
   "id": "e4d29c84",
   "metadata": {},
   "outputs": [
    {
     "name": "stdout",
     "output_type": "stream",
     "text": [
      "0:\tlearn: 0.1711488\ttotal: 147ms\tremaining: 29.3s\n",
      "50:\tlearn: 0.0712747\ttotal: 316ms\tremaining: 922ms\n",
      "100:\tlearn: 0.0649784\ttotal: 479ms\tremaining: 469ms\n",
      "150:\tlearn: 0.0610664\ttotal: 640ms\tremaining: 208ms\n",
      "199:\tlearn: 0.0581005\ttotal: 801ms\tremaining: 0us\n",
      "Mean Squared Error (MSE): 0.005808414400270597\n",
      "Mean Absolute Error (MAE): 0.052254699649873455\n",
      "R-squared (R2): 0.8357150068395051\n",
      "mape: 32.99065328824459\n"
     ]
    }
   ],
   "source": [
    "model_3 = CatBoostRegressor(iterations=200, learning_rate=0.1, depth=6, random_seed=42)\n",
    "\n",
    "\n",
    "model_3.fit(X_train_sc, y_train_sc, verbose=50)\n",
    "\n",
    "\n",
    "y_pred_3 = model_3.predict(X_test_sc)\n",
    "\n",
    "mse = mean_squared_error(y_test_sc, y_pred_3)\n",
    "mae = mean_absolute_error(y_test_sc, y_pred_3)\n",
    "r2 = r2_score(y_test_sc, y_pred_3)\n",
    "mape = mean_absolute_percentage_error(y_test_sc, y_pred_3)\n",
    "\n",
    "print(\"Mean Squared Error (MSE):\", mse)\n",
    "print(\"Mean Absolute Error (MAE):\", mae)\n",
    "print(\"R-squared (R2):\", r2)\n",
    "print(\"mape:\", mape)"
   ]
  },
  {
   "cell_type": "code",
   "execution_count": null,
   "id": "164ee19d",
   "metadata": {},
   "outputs": [],
   "source": []
  }
 ],
 "metadata": {
  "kernelspec": {
   "display_name": "Python 3 (ipykernel)",
   "language": "python",
   "name": "python3"
  },
  "language_info": {
   "codemirror_mode": {
    "name": "ipython",
    "version": 3
   },
   "file_extension": ".py",
   "mimetype": "text/x-python",
   "name": "python",
   "nbconvert_exporter": "python",
   "pygments_lexer": "ipython3",
   "version": "3.9.16"
  }
 },
 "nbformat": 4,
 "nbformat_minor": 5
}
