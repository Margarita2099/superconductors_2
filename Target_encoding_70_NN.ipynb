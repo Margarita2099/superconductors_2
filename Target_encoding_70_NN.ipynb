{
  "cells": [
    {
      "cell_type": "code",
      "source": [
        "!pip install feature-engine"
      ],
      "metadata": {
        "colab": {
          "base_uri": "https://localhost:8080/"
        },
        "id": "s47SETYOW4D3",
        "outputId": "a6f2d8fc-cfe9-46b1-baa8-ba71ae7246eb"
      },
      "id": "s47SETYOW4D3",
      "execution_count": 19,
      "outputs": [
        {
          "output_type": "stream",
          "name": "stdout",
          "text": [
            "Requirement already satisfied: feature-engine in /usr/local/lib/python3.10/dist-packages (1.6.1)\n",
            "Requirement already satisfied: numpy>=1.18.2 in /usr/local/lib/python3.10/dist-packages (from feature-engine) (1.23.5)\n",
            "Requirement already satisfied: pandas>=1.0.3 in /usr/local/lib/python3.10/dist-packages (from feature-engine) (1.5.3)\n",
            "Requirement already satisfied: scikit-learn>=1.0.0 in /usr/local/lib/python3.10/dist-packages (from feature-engine) (1.2.2)\n",
            "Requirement already satisfied: scipy>=1.4.1 in /usr/local/lib/python3.10/dist-packages (from feature-engine) (1.10.1)\n",
            "Requirement already satisfied: statsmodels>=0.11.1 in /usr/local/lib/python3.10/dist-packages (from feature-engine) (0.14.0)\n",
            "Requirement already satisfied: python-dateutil>=2.8.1 in /usr/local/lib/python3.10/dist-packages (from pandas>=1.0.3->feature-engine) (2.8.2)\n",
            "Requirement already satisfied: pytz>=2020.1 in /usr/local/lib/python3.10/dist-packages (from pandas>=1.0.3->feature-engine) (2023.3)\n",
            "Requirement already satisfied: joblib>=1.1.1 in /usr/local/lib/python3.10/dist-packages (from scikit-learn>=1.0.0->feature-engine) (1.3.2)\n",
            "Requirement already satisfied: threadpoolctl>=2.0.0 in /usr/local/lib/python3.10/dist-packages (from scikit-learn>=1.0.0->feature-engine) (3.2.0)\n",
            "Requirement already satisfied: patsy>=0.5.2 in /usr/local/lib/python3.10/dist-packages (from statsmodels>=0.11.1->feature-engine) (0.5.3)\n",
            "Requirement already satisfied: packaging>=21.3 in /usr/local/lib/python3.10/dist-packages (from statsmodels>=0.11.1->feature-engine) (23.1)\n",
            "Requirement already satisfied: six in /usr/local/lib/python3.10/dist-packages (from patsy>=0.5.2->statsmodels>=0.11.1->feature-engine) (1.16.0)\n"
          ]
        }
      ]
    },
    {
      "cell_type": "code",
      "execution_count": 20,
      "id": "905531e5",
      "metadata": {
        "id": "905531e5"
      },
      "outputs": [],
      "source": [
        "import pandas as pd\n",
        "import matplotlib.pyplot as plt\n",
        "import torch\n",
        "from torch.nn import Linear, Sequential, LeakyReLU, ReLU, SELU, GELU, Mish\n",
        "from torch.utils.data import DataLoader\n",
        "from sklearn.metrics import r2_score, mean_absolute_error, mean_absolute_percentage_error\n",
        "from sklearn.model_selection import train_test_split\n",
        "from feature_engine.selection import SmartCorrelatedSelection\n",
        "from sklearn.ensemble import RandomForestRegressor\n",
        "from feature_engine.selection import DropCorrelatedFeatures\n",
        "from sklearn.preprocessing import MinMaxScaler\n",
        "from sklearn import preprocessing"
      ]
    },
    {
      "cell_type": "code",
      "execution_count": 21,
      "id": "32b087a3",
      "metadata": {
        "id": "32b087a3"
      },
      "outputs": [],
      "source": [
        "from feature_engine.encoding import RareLabelEncoder\n",
        "from feature_engine.selection import SelectByTargetMeanPerformance"
      ]
    },
    {
      "cell_type": "code",
      "execution_count": 22,
      "id": "3415991a",
      "metadata": {
        "colab": {
          "base_uri": "https://localhost:8080/",
          "height": 443
        },
        "id": "3415991a",
        "outputId": "ba467737-3542-4dfa-b0c6-bc8f9a953a4a"
      },
      "outputs": [
        {
          "output_type": "execute_result",
          "data": {
            "text/plain": [
              "       mean_atomic_mass  wtd_mean_atomic_mass  gmean_atomic_mass  \\\n",
              "0             88.944468             57.862692          66.361592   \n",
              "1             92.729214             58.518416          73.132787   \n",
              "2             88.944468             57.885242          66.361592   \n",
              "3             88.944468             57.873967          66.361592   \n",
              "4             88.944468             57.840143          66.361592   \n",
              "...                 ...                   ...                ...   \n",
              "21188        106.957877             53.095769          82.515384   \n",
              "21189         92.266740             49.021367          64.812662   \n",
              "21190         99.663190             95.609104          99.433882   \n",
              "21191         99.663190             97.095602          99.433882   \n",
              "21192         87.468333             86.858500          82.555758   \n",
              "\n",
              "       wtd_gmean_atomic_mass  entropy_atomic_mass  wtd_entropy_atomic_mass  \\\n",
              "0                  36.116612             1.181795                 1.062396   \n",
              "1                  36.396602             1.449309                 1.057755   \n",
              "2                  36.122509             1.181795                 0.975980   \n",
              "3                  36.119560             1.181795                 1.022291   \n",
              "4                  36.110716             1.181795                 1.129224   \n",
              "...                      ...                  ...                      ...   \n",
              "21188              43.135565             1.177145                 1.254119   \n",
              "21189              32.867748             1.323287                 1.571630   \n",
              "21190              95.464320             0.690847                 0.530198   \n",
              "21191              96.901083             0.690847                 0.640883   \n",
              "21192              80.458722             1.041270                 0.895229   \n",
              "\n",
              "       range_atomic_mass  wtd_range_atomic_mass  std_atomic_mass  \\\n",
              "0              122.90607              31.794921        51.968828   \n",
              "1              122.90607              36.161939        47.094633   \n",
              "2              122.90607              35.741099        51.968828   \n",
              "3              122.90607              33.768010        51.968828   \n",
              "4              122.90607              27.848743        51.968828   \n",
              "...                  ...                    ...              ...   \n",
              "21188          146.88130              15.504479        65.764081   \n",
              "21189          188.38390               7.353333        69.232655   \n",
              "21190           13.51362              53.041104         6.756810   \n",
              "21191           13.51362              31.115202         6.756810   \n",
              "21192           71.75500              43.144000        29.905282   \n",
              "\n",
              "       wtd_std_atomic_mass  ...  wtd_mean_Valence  gmean_Valence  \\\n",
              "0                53.622535  ...          2.257143       2.213364   \n",
              "1                53.979870  ...          2.257143       1.888175   \n",
              "2                53.656268  ...          2.271429       2.213364   \n",
              "3                53.639405  ...          2.264286       2.213364   \n",
              "4                53.588771  ...          2.242857       2.213364   \n",
              "...                    ...  ...               ...            ...   \n",
              "21188            43.202659  ...          3.555556       3.223710   \n",
              "21189            50.148287  ...          2.047619       2.168944   \n",
              "21190             5.405448  ...          4.800000       4.472136   \n",
              "21191             6.249958  ...          4.690000       4.472136   \n",
              "21192            33.927941  ...          4.500000       4.762203   \n",
              "\n",
              "       wtd_gmean_Valence  entropy_Valence  wtd_entropy_Valence  range_Valence  \\\n",
              "0               2.219783         1.368922             1.066221              1   \n",
              "1               2.210679         1.557113             1.047221              2   \n",
              "2               2.232679         1.368922             1.029175              1   \n",
              "3               2.226222         1.368922             1.048834              1   \n",
              "4               2.206963         1.368922             1.096052              1   \n",
              "...                  ...              ...                  ...            ...   \n",
              "21188           3.519911         1.377820             0.913658              1   \n",
              "21189           2.038991         1.594167             1.337246              1   \n",
              "21190           4.781762         0.686962             0.450561              1   \n",
              "21191           4.665819         0.686962             0.577601              1   \n",
              "21192           4.242641         1.054920             0.970116              3   \n",
              "\n",
              "       wtd_range_Valence  std_Valence  wtd_std_Valence  critical_temp  \n",
              "0               1.085714     0.433013         0.437059          29.00  \n",
              "1               1.128571     0.632456         0.468606          26.00  \n",
              "2               1.114286     0.433013         0.444697          19.00  \n",
              "3               1.100000     0.433013         0.440952          22.00  \n",
              "4               1.057143     0.433013         0.428809          23.00  \n",
              "...                  ...          ...              ...            ...  \n",
              "21188           2.168889     0.433013         0.496904           2.44  \n",
              "21189           0.904762     0.400000         0.212959         122.10  \n",
              "21190           3.200000     0.500000         0.400000           1.98  \n",
              "21191           2.210000     0.500000         0.462493           1.84  \n",
              "21192           1.800000     1.414214         1.500000          12.80  \n",
              "\n",
              "[21193 rows x 81 columns]"
            ],
            "text/html": [
              "\n",
              "  <div id=\"df-cb83cf4c-7577-4b9d-bf8a-efedfe27ca40\" class=\"colab-df-container\">\n",
              "    <div>\n",
              "<style scoped>\n",
              "    .dataframe tbody tr th:only-of-type {\n",
              "        vertical-align: middle;\n",
              "    }\n",
              "\n",
              "    .dataframe tbody tr th {\n",
              "        vertical-align: top;\n",
              "    }\n",
              "\n",
              "    .dataframe thead th {\n",
              "        text-align: right;\n",
              "    }\n",
              "</style>\n",
              "<table border=\"1\" class=\"dataframe\">\n",
              "  <thead>\n",
              "    <tr style=\"text-align: right;\">\n",
              "      <th></th>\n",
              "      <th>mean_atomic_mass</th>\n",
              "      <th>wtd_mean_atomic_mass</th>\n",
              "      <th>gmean_atomic_mass</th>\n",
              "      <th>wtd_gmean_atomic_mass</th>\n",
              "      <th>entropy_atomic_mass</th>\n",
              "      <th>wtd_entropy_atomic_mass</th>\n",
              "      <th>range_atomic_mass</th>\n",
              "      <th>wtd_range_atomic_mass</th>\n",
              "      <th>std_atomic_mass</th>\n",
              "      <th>wtd_std_atomic_mass</th>\n",
              "      <th>...</th>\n",
              "      <th>wtd_mean_Valence</th>\n",
              "      <th>gmean_Valence</th>\n",
              "      <th>wtd_gmean_Valence</th>\n",
              "      <th>entropy_Valence</th>\n",
              "      <th>wtd_entropy_Valence</th>\n",
              "      <th>range_Valence</th>\n",
              "      <th>wtd_range_Valence</th>\n",
              "      <th>std_Valence</th>\n",
              "      <th>wtd_std_Valence</th>\n",
              "      <th>critical_temp</th>\n",
              "    </tr>\n",
              "  </thead>\n",
              "  <tbody>\n",
              "    <tr>\n",
              "      <th>0</th>\n",
              "      <td>88.944468</td>\n",
              "      <td>57.862692</td>\n",
              "      <td>66.361592</td>\n",
              "      <td>36.116612</td>\n",
              "      <td>1.181795</td>\n",
              "      <td>1.062396</td>\n",
              "      <td>122.90607</td>\n",
              "      <td>31.794921</td>\n",
              "      <td>51.968828</td>\n",
              "      <td>53.622535</td>\n",
              "      <td>...</td>\n",
              "      <td>2.257143</td>\n",
              "      <td>2.213364</td>\n",
              "      <td>2.219783</td>\n",
              "      <td>1.368922</td>\n",
              "      <td>1.066221</td>\n",
              "      <td>1</td>\n",
              "      <td>1.085714</td>\n",
              "      <td>0.433013</td>\n",
              "      <td>0.437059</td>\n",
              "      <td>29.00</td>\n",
              "    </tr>\n",
              "    <tr>\n",
              "      <th>1</th>\n",
              "      <td>92.729214</td>\n",
              "      <td>58.518416</td>\n",
              "      <td>73.132787</td>\n",
              "      <td>36.396602</td>\n",
              "      <td>1.449309</td>\n",
              "      <td>1.057755</td>\n",
              "      <td>122.90607</td>\n",
              "      <td>36.161939</td>\n",
              "      <td>47.094633</td>\n",
              "      <td>53.979870</td>\n",
              "      <td>...</td>\n",
              "      <td>2.257143</td>\n",
              "      <td>1.888175</td>\n",
              "      <td>2.210679</td>\n",
              "      <td>1.557113</td>\n",
              "      <td>1.047221</td>\n",
              "      <td>2</td>\n",
              "      <td>1.128571</td>\n",
              "      <td>0.632456</td>\n",
              "      <td>0.468606</td>\n",
              "      <td>26.00</td>\n",
              "    </tr>\n",
              "    <tr>\n",
              "      <th>2</th>\n",
              "      <td>88.944468</td>\n",
              "      <td>57.885242</td>\n",
              "      <td>66.361592</td>\n",
              "      <td>36.122509</td>\n",
              "      <td>1.181795</td>\n",
              "      <td>0.975980</td>\n",
              "      <td>122.90607</td>\n",
              "      <td>35.741099</td>\n",
              "      <td>51.968828</td>\n",
              "      <td>53.656268</td>\n",
              "      <td>...</td>\n",
              "      <td>2.271429</td>\n",
              "      <td>2.213364</td>\n",
              "      <td>2.232679</td>\n",
              "      <td>1.368922</td>\n",
              "      <td>1.029175</td>\n",
              "      <td>1</td>\n",
              "      <td>1.114286</td>\n",
              "      <td>0.433013</td>\n",
              "      <td>0.444697</td>\n",
              "      <td>19.00</td>\n",
              "    </tr>\n",
              "    <tr>\n",
              "      <th>3</th>\n",
              "      <td>88.944468</td>\n",
              "      <td>57.873967</td>\n",
              "      <td>66.361592</td>\n",
              "      <td>36.119560</td>\n",
              "      <td>1.181795</td>\n",
              "      <td>1.022291</td>\n",
              "      <td>122.90607</td>\n",
              "      <td>33.768010</td>\n",
              "      <td>51.968828</td>\n",
              "      <td>53.639405</td>\n",
              "      <td>...</td>\n",
              "      <td>2.264286</td>\n",
              "      <td>2.213364</td>\n",
              "      <td>2.226222</td>\n",
              "      <td>1.368922</td>\n",
              "      <td>1.048834</td>\n",
              "      <td>1</td>\n",
              "      <td>1.100000</td>\n",
              "      <td>0.433013</td>\n",
              "      <td>0.440952</td>\n",
              "      <td>22.00</td>\n",
              "    </tr>\n",
              "    <tr>\n",
              "      <th>4</th>\n",
              "      <td>88.944468</td>\n",
              "      <td>57.840143</td>\n",
              "      <td>66.361592</td>\n",
              "      <td>36.110716</td>\n",
              "      <td>1.181795</td>\n",
              "      <td>1.129224</td>\n",
              "      <td>122.90607</td>\n",
              "      <td>27.848743</td>\n",
              "      <td>51.968828</td>\n",
              "      <td>53.588771</td>\n",
              "      <td>...</td>\n",
              "      <td>2.242857</td>\n",
              "      <td>2.213364</td>\n",
              "      <td>2.206963</td>\n",
              "      <td>1.368922</td>\n",
              "      <td>1.096052</td>\n",
              "      <td>1</td>\n",
              "      <td>1.057143</td>\n",
              "      <td>0.433013</td>\n",
              "      <td>0.428809</td>\n",
              "      <td>23.00</td>\n",
              "    </tr>\n",
              "    <tr>\n",
              "      <th>...</th>\n",
              "      <td>...</td>\n",
              "      <td>...</td>\n",
              "      <td>...</td>\n",
              "      <td>...</td>\n",
              "      <td>...</td>\n",
              "      <td>...</td>\n",
              "      <td>...</td>\n",
              "      <td>...</td>\n",
              "      <td>...</td>\n",
              "      <td>...</td>\n",
              "      <td>...</td>\n",
              "      <td>...</td>\n",
              "      <td>...</td>\n",
              "      <td>...</td>\n",
              "      <td>...</td>\n",
              "      <td>...</td>\n",
              "      <td>...</td>\n",
              "      <td>...</td>\n",
              "      <td>...</td>\n",
              "      <td>...</td>\n",
              "      <td>...</td>\n",
              "    </tr>\n",
              "    <tr>\n",
              "      <th>21188</th>\n",
              "      <td>106.957877</td>\n",
              "      <td>53.095769</td>\n",
              "      <td>82.515384</td>\n",
              "      <td>43.135565</td>\n",
              "      <td>1.177145</td>\n",
              "      <td>1.254119</td>\n",
              "      <td>146.88130</td>\n",
              "      <td>15.504479</td>\n",
              "      <td>65.764081</td>\n",
              "      <td>43.202659</td>\n",
              "      <td>...</td>\n",
              "      <td>3.555556</td>\n",
              "      <td>3.223710</td>\n",
              "      <td>3.519911</td>\n",
              "      <td>1.377820</td>\n",
              "      <td>0.913658</td>\n",
              "      <td>1</td>\n",
              "      <td>2.168889</td>\n",
              "      <td>0.433013</td>\n",
              "      <td>0.496904</td>\n",
              "      <td>2.44</td>\n",
              "    </tr>\n",
              "    <tr>\n",
              "      <th>21189</th>\n",
              "      <td>92.266740</td>\n",
              "      <td>49.021367</td>\n",
              "      <td>64.812662</td>\n",
              "      <td>32.867748</td>\n",
              "      <td>1.323287</td>\n",
              "      <td>1.571630</td>\n",
              "      <td>188.38390</td>\n",
              "      <td>7.353333</td>\n",
              "      <td>69.232655</td>\n",
              "      <td>50.148287</td>\n",
              "      <td>...</td>\n",
              "      <td>2.047619</td>\n",
              "      <td>2.168944</td>\n",
              "      <td>2.038991</td>\n",
              "      <td>1.594167</td>\n",
              "      <td>1.337246</td>\n",
              "      <td>1</td>\n",
              "      <td>0.904762</td>\n",
              "      <td>0.400000</td>\n",
              "      <td>0.212959</td>\n",
              "      <td>122.10</td>\n",
              "    </tr>\n",
              "    <tr>\n",
              "      <th>21190</th>\n",
              "      <td>99.663190</td>\n",
              "      <td>95.609104</td>\n",
              "      <td>99.433882</td>\n",
              "      <td>95.464320</td>\n",
              "      <td>0.690847</td>\n",
              "      <td>0.530198</td>\n",
              "      <td>13.51362</td>\n",
              "      <td>53.041104</td>\n",
              "      <td>6.756810</td>\n",
              "      <td>5.405448</td>\n",
              "      <td>...</td>\n",
              "      <td>4.800000</td>\n",
              "      <td>4.472136</td>\n",
              "      <td>4.781762</td>\n",
              "      <td>0.686962</td>\n",
              "      <td>0.450561</td>\n",
              "      <td>1</td>\n",
              "      <td>3.200000</td>\n",
              "      <td>0.500000</td>\n",
              "      <td>0.400000</td>\n",
              "      <td>1.98</td>\n",
              "    </tr>\n",
              "    <tr>\n",
              "      <th>21191</th>\n",
              "      <td>99.663190</td>\n",
              "      <td>97.095602</td>\n",
              "      <td>99.433882</td>\n",
              "      <td>96.901083</td>\n",
              "      <td>0.690847</td>\n",
              "      <td>0.640883</td>\n",
              "      <td>13.51362</td>\n",
              "      <td>31.115202</td>\n",
              "      <td>6.756810</td>\n",
              "      <td>6.249958</td>\n",
              "      <td>...</td>\n",
              "      <td>4.690000</td>\n",
              "      <td>4.472136</td>\n",
              "      <td>4.665819</td>\n",
              "      <td>0.686962</td>\n",
              "      <td>0.577601</td>\n",
              "      <td>1</td>\n",
              "      <td>2.210000</td>\n",
              "      <td>0.500000</td>\n",
              "      <td>0.462493</td>\n",
              "      <td>1.84</td>\n",
              "    </tr>\n",
              "    <tr>\n",
              "      <th>21192</th>\n",
              "      <td>87.468333</td>\n",
              "      <td>86.858500</td>\n",
              "      <td>82.555758</td>\n",
              "      <td>80.458722</td>\n",
              "      <td>1.041270</td>\n",
              "      <td>0.895229</td>\n",
              "      <td>71.75500</td>\n",
              "      <td>43.144000</td>\n",
              "      <td>29.905282</td>\n",
              "      <td>33.927941</td>\n",
              "      <td>...</td>\n",
              "      <td>4.500000</td>\n",
              "      <td>4.762203</td>\n",
              "      <td>4.242641</td>\n",
              "      <td>1.054920</td>\n",
              "      <td>0.970116</td>\n",
              "      <td>3</td>\n",
              "      <td>1.800000</td>\n",
              "      <td>1.414214</td>\n",
              "      <td>1.500000</td>\n",
              "      <td>12.80</td>\n",
              "    </tr>\n",
              "  </tbody>\n",
              "</table>\n",
              "<p>21193 rows × 81 columns</p>\n",
              "</div>\n",
              "    <div class=\"colab-df-buttons\">\n",
              "\n",
              "  <div class=\"colab-df-container\">\n",
              "    <button class=\"colab-df-convert\" onclick=\"convertToInteractive('df-cb83cf4c-7577-4b9d-bf8a-efedfe27ca40')\"\n",
              "            title=\"Convert this dataframe to an interactive table.\"\n",
              "            style=\"display:none;\">\n",
              "\n",
              "  <svg xmlns=\"http://www.w3.org/2000/svg\" height=\"24px\" viewBox=\"0 -960 960 960\">\n",
              "    <path d=\"M120-120v-720h720v720H120Zm60-500h600v-160H180v160Zm220 220h160v-160H400v160Zm0 220h160v-160H400v160ZM180-400h160v-160H180v160Zm440 0h160v-160H620v160ZM180-180h160v-160H180v160Zm440 0h160v-160H620v160Z\"/>\n",
              "  </svg>\n",
              "    </button>\n",
              "\n",
              "  <style>\n",
              "    .colab-df-container {\n",
              "      display:flex;\n",
              "      gap: 12px;\n",
              "    }\n",
              "\n",
              "    .colab-df-convert {\n",
              "      background-color: #E8F0FE;\n",
              "      border: none;\n",
              "      border-radius: 50%;\n",
              "      cursor: pointer;\n",
              "      display: none;\n",
              "      fill: #1967D2;\n",
              "      height: 32px;\n",
              "      padding: 0 0 0 0;\n",
              "      width: 32px;\n",
              "    }\n",
              "\n",
              "    .colab-df-convert:hover {\n",
              "      background-color: #E2EBFA;\n",
              "      box-shadow: 0px 1px 2px rgba(60, 64, 67, 0.3), 0px 1px 3px 1px rgba(60, 64, 67, 0.15);\n",
              "      fill: #174EA6;\n",
              "    }\n",
              "\n",
              "    .colab-df-buttons div {\n",
              "      margin-bottom: 4px;\n",
              "    }\n",
              "\n",
              "    [theme=dark] .colab-df-convert {\n",
              "      background-color: #3B4455;\n",
              "      fill: #D2E3FC;\n",
              "    }\n",
              "\n",
              "    [theme=dark] .colab-df-convert:hover {\n",
              "      background-color: #434B5C;\n",
              "      box-shadow: 0px 1px 3px 1px rgba(0, 0, 0, 0.15);\n",
              "      filter: drop-shadow(0px 1px 2px rgba(0, 0, 0, 0.3));\n",
              "      fill: #FFFFFF;\n",
              "    }\n",
              "  </style>\n",
              "\n",
              "    <script>\n",
              "      const buttonEl =\n",
              "        document.querySelector('#df-cb83cf4c-7577-4b9d-bf8a-efedfe27ca40 button.colab-df-convert');\n",
              "      buttonEl.style.display =\n",
              "        google.colab.kernel.accessAllowed ? 'block' : 'none';\n",
              "\n",
              "      async function convertToInteractive(key) {\n",
              "        const element = document.querySelector('#df-cb83cf4c-7577-4b9d-bf8a-efedfe27ca40');\n",
              "        const dataTable =\n",
              "          await google.colab.kernel.invokeFunction('convertToInteractive',\n",
              "                                                    [key], {});\n",
              "        if (!dataTable) return;\n",
              "\n",
              "        const docLinkHtml = 'Like what you see? Visit the ' +\n",
              "          '<a target=\"_blank\" href=https://colab.research.google.com/notebooks/data_table.ipynb>data table notebook</a>'\n",
              "          + ' to learn more about interactive tables.';\n",
              "        element.innerHTML = '';\n",
              "        dataTable['output_type'] = 'display_data';\n",
              "        await google.colab.output.renderOutput(dataTable, element);\n",
              "        const docLink = document.createElement('div');\n",
              "        docLink.innerHTML = docLinkHtml;\n",
              "        element.appendChild(docLink);\n",
              "      }\n",
              "    </script>\n",
              "  </div>\n",
              "\n",
              "\n",
              "<div id=\"df-c495f1f8-4fa0-4331-a609-9e39608b8e04\">\n",
              "  <button class=\"colab-df-quickchart\" onclick=\"quickchart('df-c495f1f8-4fa0-4331-a609-9e39608b8e04')\"\n",
              "            title=\"Suggest charts.\"\n",
              "            style=\"display:none;\">\n",
              "\n",
              "<svg xmlns=\"http://www.w3.org/2000/svg\" height=\"24px\"viewBox=\"0 0 24 24\"\n",
              "     width=\"24px\">\n",
              "    <g>\n",
              "        <path d=\"M19 3H5c-1.1 0-2 .9-2 2v14c0 1.1.9 2 2 2h14c1.1 0 2-.9 2-2V5c0-1.1-.9-2-2-2zM9 17H7v-7h2v7zm4 0h-2V7h2v10zm4 0h-2v-4h2v4z\"/>\n",
              "    </g>\n",
              "</svg>\n",
              "  </button>\n",
              "\n",
              "<style>\n",
              "  .colab-df-quickchart {\n",
              "    background-color: #E8F0FE;\n",
              "    border: none;\n",
              "    border-radius: 50%;\n",
              "    cursor: pointer;\n",
              "    display: none;\n",
              "    fill: #1967D2;\n",
              "    height: 32px;\n",
              "    padding: 0 0 0 0;\n",
              "    width: 32px;\n",
              "  }\n",
              "\n",
              "  .colab-df-quickchart:hover {\n",
              "    background-color: #E2EBFA;\n",
              "    box-shadow: 0px 1px 2px rgba(60, 64, 67, 0.3), 0px 1px 3px 1px rgba(60, 64, 67, 0.15);\n",
              "    fill: #174EA6;\n",
              "  }\n",
              "\n",
              "  [theme=dark] .colab-df-quickchart {\n",
              "    background-color: #3B4455;\n",
              "    fill: #D2E3FC;\n",
              "  }\n",
              "\n",
              "  [theme=dark] .colab-df-quickchart:hover {\n",
              "    background-color: #434B5C;\n",
              "    box-shadow: 0px 1px 3px 1px rgba(0, 0, 0, 0.15);\n",
              "    filter: drop-shadow(0px 1px 2px rgba(0, 0, 0, 0.3));\n",
              "    fill: #FFFFFF;\n",
              "  }\n",
              "</style>\n",
              "\n",
              "  <script>\n",
              "    async function quickchart(key) {\n",
              "      const charts = await google.colab.kernel.invokeFunction(\n",
              "          'suggestCharts', [key], {});\n",
              "    }\n",
              "    (() => {\n",
              "      let quickchartButtonEl =\n",
              "        document.querySelector('#df-c495f1f8-4fa0-4331-a609-9e39608b8e04 button');\n",
              "      quickchartButtonEl.style.display =\n",
              "        google.colab.kernel.accessAllowed ? 'block' : 'none';\n",
              "    })();\n",
              "  </script>\n",
              "</div>\n",
              "    </div>\n",
              "  </div>\n"
            ]
          },
          "metadata": {},
          "execution_count": 22
        }
      ],
      "source": [
        "file_path = '/content/train_1.csv'\n",
        "\n",
        "data = pd.read_csv(file_path)\n",
        "data"
      ]
    },
    {
      "cell_type": "code",
      "execution_count": 23,
      "id": "f218db21",
      "metadata": {
        "colab": {
          "base_uri": "https://localhost:8080/"
        },
        "id": "f218db21",
        "outputId": "9174fa4b-b50f-428d-8edf-dbedd80117df"
      },
      "outputs": [
        {
          "output_type": "execute_result",
          "data": {
            "text/plain": [
              "((16954, 80), (4239, 80))"
            ]
          },
          "metadata": {},
          "execution_count": 23
        }
      ],
      "source": [
        "X = data.iloc[:, 0:-1]\n",
        "y = data.iloc[:, -1]\n",
        "X_train, X_test, y_train, y_test = train_test_split(\n",
        "    X, y, test_size=0.2, random_state=0,\n",
        ")\n",
        "\n",
        "X_train.shape, X_test.shape"
      ]
    },
    {
      "cell_type": "code",
      "execution_count": 24,
      "id": "b9b678da",
      "metadata": {
        "colab": {
          "base_uri": "https://localhost:8080/",
          "height": 92
        },
        "id": "b9b678da",
        "outputId": "d9ed2052-658c-482b-8996-e995eb0733dd"
      },
      "outputs": [
        {
          "output_type": "execute_result",
          "data": {
            "text/plain": [
              "SelectByTargetMeanPerformance(bins=70, regression=True, scoring='r2',\n",
              "                              strategy='equal_frequency')"
            ],
            "text/html": [
              "<style>#sk-container-id-2 {color: black;background-color: white;}#sk-container-id-2 pre{padding: 0;}#sk-container-id-2 div.sk-toggleable {background-color: white;}#sk-container-id-2 label.sk-toggleable__label {cursor: pointer;display: block;width: 100%;margin-bottom: 0;padding: 0.3em;box-sizing: border-box;text-align: center;}#sk-container-id-2 label.sk-toggleable__label-arrow:before {content: \"▸\";float: left;margin-right: 0.25em;color: #696969;}#sk-container-id-2 label.sk-toggleable__label-arrow:hover:before {color: black;}#sk-container-id-2 div.sk-estimator:hover label.sk-toggleable__label-arrow:before {color: black;}#sk-container-id-2 div.sk-toggleable__content {max-height: 0;max-width: 0;overflow: hidden;text-align: left;background-color: #f0f8ff;}#sk-container-id-2 div.sk-toggleable__content pre {margin: 0.2em;color: black;border-radius: 0.25em;background-color: #f0f8ff;}#sk-container-id-2 input.sk-toggleable__control:checked~div.sk-toggleable__content {max-height: 200px;max-width: 100%;overflow: auto;}#sk-container-id-2 input.sk-toggleable__control:checked~label.sk-toggleable__label-arrow:before {content: \"▾\";}#sk-container-id-2 div.sk-estimator input.sk-toggleable__control:checked~label.sk-toggleable__label {background-color: #d4ebff;}#sk-container-id-2 div.sk-label input.sk-toggleable__control:checked~label.sk-toggleable__label {background-color: #d4ebff;}#sk-container-id-2 input.sk-hidden--visually {border: 0;clip: rect(1px 1px 1px 1px);clip: rect(1px, 1px, 1px, 1px);height: 1px;margin: -1px;overflow: hidden;padding: 0;position: absolute;width: 1px;}#sk-container-id-2 div.sk-estimator {font-family: monospace;background-color: #f0f8ff;border: 1px dotted black;border-radius: 0.25em;box-sizing: border-box;margin-bottom: 0.5em;}#sk-container-id-2 div.sk-estimator:hover {background-color: #d4ebff;}#sk-container-id-2 div.sk-parallel-item::after {content: \"\";width: 100%;border-bottom: 1px solid gray;flex-grow: 1;}#sk-container-id-2 div.sk-label:hover label.sk-toggleable__label {background-color: #d4ebff;}#sk-container-id-2 div.sk-serial::before {content: \"\";position: absolute;border-left: 1px solid gray;box-sizing: border-box;top: 0;bottom: 0;left: 50%;z-index: 0;}#sk-container-id-2 div.sk-serial {display: flex;flex-direction: column;align-items: center;background-color: white;padding-right: 0.2em;padding-left: 0.2em;position: relative;}#sk-container-id-2 div.sk-item {position: relative;z-index: 1;}#sk-container-id-2 div.sk-parallel {display: flex;align-items: stretch;justify-content: center;background-color: white;position: relative;}#sk-container-id-2 div.sk-item::before, #sk-container-id-2 div.sk-parallel-item::before {content: \"\";position: absolute;border-left: 1px solid gray;box-sizing: border-box;top: 0;bottom: 0;left: 50%;z-index: -1;}#sk-container-id-2 div.sk-parallel-item {display: flex;flex-direction: column;z-index: 1;position: relative;background-color: white;}#sk-container-id-2 div.sk-parallel-item:first-child::after {align-self: flex-end;width: 50%;}#sk-container-id-2 div.sk-parallel-item:last-child::after {align-self: flex-start;width: 50%;}#sk-container-id-2 div.sk-parallel-item:only-child::after {width: 0;}#sk-container-id-2 div.sk-dashed-wrapped {border: 1px dashed gray;margin: 0 0.4em 0.5em 0.4em;box-sizing: border-box;padding-bottom: 0.4em;background-color: white;}#sk-container-id-2 div.sk-label label {font-family: monospace;font-weight: bold;display: inline-block;line-height: 1.2em;}#sk-container-id-2 div.sk-label-container {text-align: center;}#sk-container-id-2 div.sk-container {/* jupyter's `normalize.less` sets `[hidden] { display: none; }` but bootstrap.min.css set `[hidden] { display: none !important; }` so we also need the `!important` here to be able to override the default hidden behavior on the sphinx rendered scikit-learn.org. See: https://github.com/scikit-learn/scikit-learn/issues/21755 */display: inline-block !important;position: relative;}#sk-container-id-2 div.sk-text-repr-fallback {display: none;}</style><div id=\"sk-container-id-2\" class=\"sk-top-container\"><div class=\"sk-text-repr-fallback\"><pre>SelectByTargetMeanPerformance(bins=70, regression=True, scoring=&#x27;r2&#x27;,\n",
              "                              strategy=&#x27;equal_frequency&#x27;)</pre><b>In a Jupyter environment, please rerun this cell to show the HTML representation or trust the notebook. <br />On GitHub, the HTML representation is unable to render, please try loading this page with nbviewer.org.</b></div><div class=\"sk-container\" hidden><div class=\"sk-item\"><div class=\"sk-estimator sk-toggleable\"><input class=\"sk-toggleable__control sk-hidden--visually\" id=\"sk-estimator-id-2\" type=\"checkbox\" checked><label for=\"sk-estimator-id-2\" class=\"sk-toggleable__label sk-toggleable__label-arrow\">SelectByTargetMeanPerformance</label><div class=\"sk-toggleable__content\"><pre>SelectByTargetMeanPerformance(bins=70, regression=True, scoring=&#x27;r2&#x27;,\n",
              "                              strategy=&#x27;equal_frequency&#x27;)</pre></div></div></div></div></div>"
            ]
          },
          "metadata": {},
          "execution_count": 24
        }
      ],
      "source": [
        "sel = SelectByTargetMeanPerformance(\n",
        "    bins=70,\n",
        "    strategy='equal_frequency',\n",
        "    scoring='r2',\n",
        "    cv=3,\n",
        "    threshold=None,\n",
        "    regression=True,\n",
        ")\n",
        "\n",
        "sel.fit(X_train, y_train)\n"
      ]
    },
    {
      "cell_type": "code",
      "execution_count": 25,
      "id": "94c75bb2",
      "metadata": {
        "colab": {
          "base_uri": "https://localhost:8080/"
        },
        "id": "94c75bb2",
        "outputId": "0e54b093-2f24-4fa9-e61e-551569880430"
      },
      "outputs": [
        {
          "output_type": "execute_result",
          "data": {
            "text/plain": [
              "['mean_atomic_mass',\n",
              " 'wtd_mean_atomic_mass',\n",
              " 'gmean_atomic_mass',\n",
              " 'wtd_gmean_atomic_mass',\n",
              " 'wtd_range_atomic_mass',\n",
              " 'std_atomic_mass',\n",
              " 'wtd_std_atomic_mass',\n",
              " 'mean_fie',\n",
              " 'gmean_fie',\n",
              " 'wtd_gmean_fie',\n",
              " 'wtd_entropy_fie',\n",
              " 'wtd_range_fie',\n",
              " 'mean_atomic_radius',\n",
              " 'wtd_mean_atomic_radius',\n",
              " 'gmean_atomic_radius',\n",
              " 'wtd_range_atomic_radius',\n",
              " 'mean_Density',\n",
              " 'wtd_mean_Density',\n",
              " 'wtd_entropy_Density',\n",
              " 'wtd_range_Density',\n",
              " 'std_Density',\n",
              " 'wtd_std_Density',\n",
              " 'mean_ElectronAffinity',\n",
              " 'wtd_mean_ElectronAffinity',\n",
              " 'gmean_ElectronAffinity',\n",
              " 'wtd_gmean_ElectronAffinity',\n",
              " 'entropy_ElectronAffinity',\n",
              " 'wtd_entropy_ElectronAffinity',\n",
              " 'wtd_range_ElectronAffinity',\n",
              " 'mean_FusionHeat',\n",
              " 'std_FusionHeat',\n",
              " 'wtd_mean_ThermalConductivity',\n",
              " 'entropy_ThermalConductivity',\n",
              " 'wtd_entropy_ThermalConductivity',\n",
              " 'range_Valence',\n",
              " 'std_Valence',\n",
              " 'wtd_std_Valence']"
            ]
          },
          "metadata": {},
          "execution_count": 25
        }
      ],
      "source": [
        "sel.features_to_drop_"
      ]
    },
    {
      "cell_type": "code",
      "execution_count": 26,
      "id": "6004e583",
      "metadata": {
        "colab": {
          "base_uri": "https://localhost:8080/"
        },
        "id": "6004e583",
        "outputId": "cdc971f2-ebfb-454b-fc2d-0b79d2539079"
      },
      "outputs": [
        {
          "output_type": "execute_result",
          "data": {
            "text/plain": [
              "{'mean_atomic_mass': 0.27090875997396635,\n",
              " 'wtd_mean_atomic_mass': 0.24566668195388483,\n",
              " 'gmean_atomic_mass': 0.3554334260449458,\n",
              " 'wtd_gmean_atomic_mass': 0.3576487593232313,\n",
              " 'entropy_atomic_mass': 0.5110604332267484,\n",
              " 'wtd_entropy_atomic_mass': 0.5215206567963641,\n",
              " 'range_atomic_mass': 0.45047362493649196,\n",
              " 'wtd_range_atomic_mass': 0.2910709740699839,\n",
              " 'std_atomic_mass': 0.3030370774450363,\n",
              " 'wtd_std_atomic_mass': 0.34576051864873536,\n",
              " 'mean_fie': 0.26459624015863686,\n",
              " 'wtd_mean_fie': 0.4295998486646453,\n",
              " 'gmean_fie': 0.22473241871994795,\n",
              " 'wtd_gmean_fie': 0.3804651047396647,\n",
              " 'entropy_fie': 0.5599637117947692,\n",
              " 'wtd_entropy_fie': 0.3403416473700087,\n",
              " 'range_fie': 0.5977890856854712,\n",
              " 'wtd_range_fie': 0.3695804858990614,\n",
              " 'std_fie': 0.5296744630352997,\n",
              " 'wtd_std_fie': 0.5248044043231286,\n",
              " 'mean_atomic_radius': 0.23224993945036754,\n",
              " 'wtd_mean_atomic_radius': 0.3488618639543706,\n",
              " 'gmean_atomic_radius': 0.32283968887615977,\n",
              " 'wtd_gmean_atomic_radius': 0.44777669409888254,\n",
              " 'entropy_atomic_radius': 0.5988916013458022,\n",
              " 'wtd_entropy_atomic_radius': 0.4875569815486058,\n",
              " 'range_atomic_radius': 0.5680409042559263,\n",
              " 'wtd_range_atomic_radius': 0.2644572788427871,\n",
              " 'std_atomic_radius': 0.4423355867237743,\n",
              " 'wtd_std_atomic_radius': 0.4293906745950771,\n",
              " 'mean_Density': 0.3415412548723435,\n",
              " 'wtd_mean_Density': 0.375743779703596,\n",
              " 'gmean_Density': 0.5420728093773767,\n",
              " 'wtd_gmean_Density': 0.5804086266116996,\n",
              " 'entropy_Density': 0.4591328438329693,\n",
              " 'wtd_entropy_Density': 0.2699781010920494,\n",
              " 'range_Density': 0.44981724541580337,\n",
              " 'wtd_range_Density': 0.35577002335787317,\n",
              " 'std_Density': 0.34127434579326854,\n",
              " 'wtd_std_Density': 0.4076278705141507,\n",
              " 'mean_ElectronAffinity': 0.35212742296966626,\n",
              " 'wtd_mean_ElectronAffinity': 0.29721349055384666,\n",
              " 'gmean_ElectronAffinity': 0.3804421593845955,\n",
              " 'wtd_gmean_ElectronAffinity': 0.24799462311459963,\n",
              " 'entropy_ElectronAffinity': 0.40407811717136743,\n",
              " 'wtd_entropy_ElectronAffinity': 0.21408975011158174,\n",
              " 'range_ElectronAffinity': 0.5651459033559997,\n",
              " 'wtd_range_ElectronAffinity': 0.39886068694005816,\n",
              " 'std_ElectronAffinity': 0.4726664665894902,\n",
              " 'wtd_std_ElectronAffinity': 0.4389426744249043,\n",
              " 'mean_FusionHeat': 0.4160186939820311,\n",
              " 'wtd_mean_FusionHeat': 0.4676851279632053,\n",
              " 'gmean_FusionHeat': 0.4936888229748056,\n",
              " 'wtd_gmean_FusionHeat': 0.5516636538331133,\n",
              " 'entropy_FusionHeat': 0.48964603717691535,\n",
              " 'wtd_entropy_FusionHeat': 0.42989924176324107,\n",
              " 'range_FusionHeat': 0.4365438369681321,\n",
              " 'wtd_range_FusionHeat': 0.4379512990798122,\n",
              " 'std_FusionHeat': 0.3874804558101002,\n",
              " 'wtd_std_FusionHeat': 0.4166997055337058,\n",
              " 'mean_ThermalConductivity': 0.4480807796023483,\n",
              " 'wtd_mean_ThermalConductivity': 0.3475511876230022,\n",
              " 'gmean_ThermalConductivity': 0.4376778969465766,\n",
              " 'wtd_gmean_ThermalConductivity': 0.4464090869273223,\n",
              " 'entropy_ThermalConductivity': 0.26960590001432766,\n",
              " 'wtd_entropy_ThermalConductivity': 0.24021373470361077,\n",
              " 'range_ThermalConductivity': 0.5503183225951785,\n",
              " 'wtd_range_ThermalConductivity': 0.43430342472334277,\n",
              " 'std_ThermalConductivity': 0.5816743594092546,\n",
              " 'wtd_std_ThermalConductivity': 0.6128935693288248,\n",
              " 'mean_Valence': 0.49885640059575764,\n",
              " 'wtd_mean_Valence': 0.5999933081744464,\n",
              " 'gmean_Valence': 0.5032864406435145,\n",
              " 'wtd_gmean_Valence': 0.5881987473135925,\n",
              " 'entropy_Valence': 0.5435387818730842,\n",
              " 'wtd_entropy_Valence': 0.5122493103746285,\n",
              " 'range_Valence': 0.04300274372336873,\n",
              " 'wtd_range_Valence': 0.46817847322849876,\n",
              " 'std_Valence': 0.36622710776964446,\n",
              " 'wtd_std_Valence': 0.36645756064295365}"
            ]
          },
          "metadata": {},
          "execution_count": 26
        }
      ],
      "source": [
        "sel.feature_performance_"
      ]
    },
    {
      "cell_type": "code",
      "execution_count": 27,
      "id": "06bb2910",
      "metadata": {
        "colab": {
          "base_uri": "https://localhost:8080/"
        },
        "id": "06bb2910",
        "outputId": "27c2f5d5-1fbf-445c-807d-57fc96b79dcc"
      },
      "outputs": [
        {
          "output_type": "execute_result",
          "data": {
            "text/plain": [
              "((16954, 43), (4239, 43))"
            ]
          },
          "metadata": {},
          "execution_count": 27
        }
      ],
      "source": [
        "X_train_t = sel.transform(X_train)\n",
        "X_test_t = sel.transform(X_test)\n",
        "\n",
        "X_train_t.shape, X_test_t.shape"
      ]
    },
    {
      "cell_type": "markdown",
      "id": "a7f041dc",
      "metadata": {
        "id": "a7f041dc"
      },
      "source": [
        "### Scaling"
      ]
    },
    {
      "cell_type": "code",
      "execution_count": 28,
      "id": "ca1ba34b",
      "metadata": {
        "id": "ca1ba34b"
      },
      "outputs": [],
      "source": [
        "min_max_scaler = preprocessing.MinMaxScaler()\n",
        "X_train_sc= min_max_scaler.fit_transform(X_train_t)\n",
        "\n",
        "X_test_sc=min_max_scaler.fit_transform(X_test_t)"
      ]
    },
    {
      "cell_type": "code",
      "execution_count": 29,
      "id": "bd64f9aa",
      "metadata": {
        "id": "bd64f9aa"
      },
      "outputs": [],
      "source": [
        "scaler = MinMaxScaler()\n",
        "y_train_sc = scaler.fit_transform(y_train.values.reshape(-1, 1))\n",
        "y_test_sc = scaler.transform(y_test.values.reshape(-1, 1))"
      ]
    },
    {
      "cell_type": "code",
      "execution_count": 30,
      "id": "2152c72a",
      "metadata": {
        "id": "2152c72a"
      },
      "outputs": [],
      "source": [
        "# train-test split\n",
        "dataloaders = {\n",
        "    'train': DataLoader(\n",
        "        list(zip(X_train_sc, y_train_sc)),\n",
        "        batch_size=32\n",
        "    ),\n",
        "    'test': DataLoader(\n",
        "        list(zip(X_test_sc, y_test_sc)),\n",
        "        batch_size=32\n",
        "    )\n",
        "}"
      ]
    },
    {
      "cell_type": "code",
      "source": [
        "def train(model, dataloaders, lr, epochs):\n",
        "\n",
        "    criterion = torch.nn.MSELoss()\n",
        "    optimizer = torch.optim.Adam(model.parameters(), lr=lr)\n",
        "    scheduler =torch.optim.lr_scheduler.ReduceLROnPlateau(optimizer, patience=625)\n",
        "\n",
        "    metrics = {'train' : {\n",
        "        'mse_loss': [], 'mae_loss': [], 'mape_loss': [], 'r2_score': [], 'lr': [1]\n",
        "        },\n",
        "              'test' : {\n",
        "                  'mse_loss': [], 'mae_loss': [], 'mape_loss': [], 'r2_score': [], 'lr': [1]\n",
        "                  }\n",
        "               }\n",
        "\n",
        "    for epoch in range(epochs):\n",
        "        for phase in ['train', 'test']:\n",
        "\n",
        "            epoch_loss = 0.\n",
        "            epoch_r2_score = 0.\n",
        "            epoch_mae_loss = 0.\n",
        "            epoch_mape_loss = 0.\n",
        "\n",
        "            for x, y in dataloaders[phase]:\n",
        "\n",
        "                y_pred = model(x.float())\n",
        "                loss_value = criterion(y.float(), y_pred.squeeze(0))\n",
        "                epoch_loss += loss_value.item()\n",
        "\n",
        "                optimizer.zero_grad()\n",
        "\n",
        "                if phase == 'train':\n",
        "                    loss_value.backward()\n",
        "                    optimizer.step()\n",
        "                    scheduler.step(loss_value)\n",
        "\n",
        "                y = y.detach().numpy()\n",
        "                y_pred = y_pred.squeeze(0).detach().numpy()\n",
        "                epoch_r2_score += r2_score(y, y_pred)\n",
        "                epoch_mae_loss += mean_absolute_error(y, y_pred)\n",
        "                epoch_mape_loss += mean_absolute_percentage_error(y, y_pred)\n",
        "\n",
        "            metrics[phase]['mse_loss'].append(epoch_loss/len(dataloaders[phase]))\n",
        "            metrics[phase]['r2_score'].append(epoch_r2_score/len(dataloaders[phase]))\n",
        "            metrics[phase]['mae_loss'].append(epoch_mae_loss/len(dataloaders[phase]))\n",
        "            metrics[phase]['mape_loss'].append(epoch_mape_loss/len(dataloaders[phase]))\n",
        "            metrics[phase]['lr'].append(optimizer.param_groups[0]['lr'])\n",
        "\n",
        "    return metrics\n"
      ],
      "metadata": {
        "id": "lasQYOmBXl6R"
      },
      "id": "lasQYOmBXl6R",
      "execution_count": 31,
      "outputs": []
    },
    {
      "cell_type": "markdown",
      "source": [
        "Проведём поиск наилучшей функции активации для данной архитектуры."
      ],
      "metadata": {
        "id": "zXh9Wvz9Xo62"
      },
      "id": "zXh9Wvz9Xo62"
    },
    {
      "cell_type": "code",
      "source": [
        "activ_funcs = [LeakyReLU, ReLU, SELU, GELU, Mish]\n",
        "history = {}\n",
        "\n",
        "for func in activ_funcs:\n",
        "\n",
        "  model = Sequential(\n",
        "              Linear(43, 256),\n",
        "              func(),\n",
        "              Linear(256, 512),\n",
        "              func(),\n",
        "              Linear(512, 256),\n",
        "              func(),\n",
        "              Linear(256, 64),\n",
        "              func(),\n",
        "              Linear(64, 1)\n",
        "          )\n",
        "\n",
        "  history[func.__name__] = train(model, dataloaders, 0.001, 25)"
      ],
      "metadata": {
        "id": "gp57AoqqXnht"
      },
      "id": "gp57AoqqXnht",
      "execution_count": 32,
      "outputs": []
    },
    {
      "cell_type": "code",
      "source": [
        "func_names = list(history.keys())\n",
        "\n",
        "for func_name in func_names:\n",
        "  plt.plot(range(25), history[func_name]['test']['mse_loss'])\n",
        "plt.title('Test MSE loss')\n",
        "plt.legend(func_names)\n",
        "plt.grid(True)\n",
        "plt.show()"
      ],
      "metadata": {
        "colab": {
          "base_uri": "https://localhost:8080/",
          "height": 452
        },
        "id": "5x7jLBskXqu7",
        "outputId": "7850cae2-7a44-42d8-fcad-6b1fdefeef60"
      },
      "id": "5x7jLBskXqu7",
      "execution_count": 35,
      "outputs": [
        {
          "output_type": "display_data",
          "data": {
            "text/plain": [
              "<Figure size 640x480 with 1 Axes>"
            ],
            "image/png": "[encoded data removed]"
          },
          "metadata": {}
        }
      ]
    },
    {
      "cell_type": "code",
      "source": [
        "for func_name in func_names:\n",
        "  plt.plot(range(25), history[func_name]['test']['mae_loss'])\n",
        "plt.title('Test MAE loss')\n",
        "plt.legend(func_names)\n",
        "plt.grid(True)\n",
        "plt.show()"
      ],
      "metadata": {
        "colab": {
          "base_uri": "https://localhost:8080/",
          "height": 452
        },
        "id": "NwbIHVt3Y0mL",
        "outputId": "9c01191d-b6f5-42f6-b9db-47476cac460f"
      },
      "id": "NwbIHVt3Y0mL",
      "execution_count": 36,
      "outputs": [
        {
          "output_type": "display_data",
          "data": {
            "text/plain": [
              "<Figure size 640x480 with 1 Axes>"
            ],
            "image/png": "[encoded data removed]"
          },
          "metadata": {}
        }
      ]
    },
    {
      "cell_type": "code",
      "source": [
        "for func_name in func_names:\n",
        "  plt.plot(range(25), history[func_name]['test']['mape_loss'])\n",
        "plt.title('Test MAPE loss')\n",
        "plt.legend(func_names)\n",
        "plt.grid(True)\n",
        "plt.show()"
      ],
      "metadata": {
        "colab": {
          "base_uri": "https://localhost:8080/",
          "height": 452
        },
        "id": "g_VyITmvY7qC",
        "outputId": "35862f2a-45fd-4017-dc8d-a607f1166886"
      },
      "id": "g_VyITmvY7qC",
      "execution_count": 37,
      "outputs": [
        {
          "output_type": "display_data",
          "data": {
            "text/plain": [
              "<Figure size 640x480 with 1 Axes>"
            ],
            "image/png": "[encoded data removed]"
          },
          "metadata": {}
        }
      ]
    },
    {
      "cell_type": "code",
      "source": [
        "for func_name in func_names:\n",
        "  plt.plot(range(25), history[func_name]['test']['r2_score'])\n",
        "plt.title('Test R2 score')\n",
        "plt.legend(func_names)\n",
        "plt.grid(True)\n",
        "plt.show()"
      ],
      "metadata": {
        "colab": {
          "base_uri": "https://localhost:8080/",
          "height": 452
        },
        "id": "_bZnCO2sY9XT",
        "outputId": "e96fe05e-17dd-4690-8520-da6c4c7dab4a"
      },
      "id": "_bZnCO2sY9XT",
      "execution_count": 38,
      "outputs": [
        {
          "output_type": "display_data",
          "data": {
            "text/plain": [
              "<Figure size 640x480 with 1 Axes>"
            ],
            "image/png": "[encoded data removed]"
          },
          "metadata": {}
        }
      ]
    },
    {
      "cell_type": "markdown",
      "source": [
        "Из графиков выше видно, что функция активации `LeakyReLU` дает наилучший результат на всех метриках."
      ],
      "metadata": {
        "id": "n92iGQFScWP_"
      },
      "id": "n92iGQFScWP_"
    }
  ],
  "metadata": {
    "kernelspec": {
      "display_name": "Python 3 (ipykernel)",
      "language": "python",
      "name": "python3"
    },
    "language_info": {
      "codemirror_mode": {
        "name": "ipython",
        "version": 3
      },
      "file_extension": ".py",
      "mimetype": "text/x-python",
      "name": "python",
      "nbconvert_exporter": "python",
      "pygments_lexer": "ipython3",
      "version": "3.9.16"
    },
    "colab": {
      "provenance": []
    }
  },
  "nbformat": 4,
  "nbformat_minor": 5
}